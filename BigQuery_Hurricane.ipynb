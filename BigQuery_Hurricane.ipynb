{
 "cells": [
  {
   "cell_type": "code",
   "execution_count": null,
   "id": "c224aebe-ed17-4a65-9286-f607a7053bd1",
   "metadata": {},
   "outputs": [],
   "source": [
    "import pandas as pd"
   ]
  },
  {
   "cell_type": "code",
   "execution_count": null,
   "id": "b388e24d-2354-4ada-beb8-96d9cf1e3c08",
   "metadata": {},
   "outputs": [],
   "source": [
    "%%bigquery df_sally\n",
    "SELECT\n",
    " latitude,\n",
    " longitude,\n",
    " iso_time,\n",
    " dist2land\n",
    " ,name\n",
    " ,usa_pressure\n",
    " ,nature\n",
    "FROM \n",
    " `bigquery-public-data.noaa_hurricanes.hurricanes`\n",
    "WHERE 1=1 \n",
    " and name LIKE '%SALL%'  --'%IDA%'\n",
    " AND season = '2020'"
   ]
  },
  {
   "cell_type": "code",
   "execution_count": null,
   "id": "81c5d56b-619f-40d6-b05d-e805dca684c4",
   "metadata": {},
   "outputs": [],
   "source": [
    "df_sally"
   ]
  }
 ],
 "metadata": {
  "environment": {
   "name": "common-cpu.m81",
   "type": "gcloud",
   "uri": "gcr.io/deeplearning-platform-release/base-cpu:m81"
  },
  "kernelspec": {
   "display_name": "Python 3",
   "language": "python",
   "name": "python3"
  },
  "language_info": {
   "codemirror_mode": {
    "name": "ipython",
    "version": 3
   },
   "file_extension": ".py",
   "mimetype": "text/x-python",
   "name": "python",
   "nbconvert_exporter": "python",
   "pygments_lexer": "ipython3",
   "version": "3.7.10"
  }
 },
 "nbformat": 4,
 "nbformat_minor": 5
}
